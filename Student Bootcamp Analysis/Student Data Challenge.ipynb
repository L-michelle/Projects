{
 "cells": [
  {
   "cell_type": "markdown",
   "id": "829a169c",
   "metadata": {},
   "source": [
    "# Student Data Analysis\n",
    "\n",
    "This is student data from Student 32 from TripleTen’s Data Science or Software Engineering programs. In the dataset are timestamped events for one student, with indications about the time of day, day of the week, and (rough) location they are in the program. The goal of this analysis is to study the student's activity and determine if he/she had a difference in activity/ events between weekdays and weekends. \n",
    "\n",
    "#### Data: \n",
    "- `student`— unique id for each student\n",
    "- event_type:\n",
    "    - `event_1` — lesson open\n",
    "    - `event_2` — task attempt\n",
    "    - `event_3` — task correct\n",
    "- `dt` — the date of the event\n",
    "- `tm` — the time of the event (UTC)\n",
    "- `tod_bin` — the time of day\n",
    "- `dow' — the day of the week\n",
    "- width_bucket — an integer representing what period of the program the student has completed. Values are:\n",
    "    - `1` - the first third of the program\n",
    "    - `2` - the middle third of the program\n",
    "    - `3`- the final third of the program"
   ]
  },
  {
   "cell_type": "markdown",
   "id": "66024919",
   "metadata": {},
   "source": [
    "### Data Preprocessing & EDA"
   ]
  },
  {
   "cell_type": "code",
   "execution_count": 1,
   "id": "14499d84",
   "metadata": {},
   "outputs": [],
   "source": [
    "#importing libraries\n",
    "import pandas as pd \n",
    "import matplotlib.pyplot as plt\n",
    "%matplotlib inline\n",
    "import  numpy as np\n",
    "import seaborn as sns\n",
    "from scipy import stats as st\n",
    "\n",
    "#setting plot style for all graphs\n",
    "plt.style.use('ggplot')\n",
    "\n",
    "#ignore warnings\n",
    "import warnings\n",
    "warnings.filterwarnings('ignore')"
   ]
  },
  {
   "cell_type": "code",
   "execution_count": 2,
   "id": "43517337",
   "metadata": {},
   "outputs": [
    {
     "data": {
      "text/html": [
       "<div>\n",
       "<style scoped>\n",
       "    .dataframe tbody tr th:only-of-type {\n",
       "        vertical-align: middle;\n",
       "    }\n",
       "\n",
       "    .dataframe tbody tr th {\n",
       "        vertical-align: top;\n",
       "    }\n",
       "\n",
       "    .dataframe thead th {\n",
       "        text-align: right;\n",
       "    }\n",
       "</style>\n",
       "<table border=\"1\" class=\"dataframe\">\n",
       "  <thead>\n",
       "    <tr style=\"text-align: right;\">\n",
       "      <th></th>\n",
       "      <th>student</th>\n",
       "      <th>event_type</th>\n",
       "      <th>dt</th>\n",
       "      <th>tm</th>\n",
       "      <th>tod_bin</th>\n",
       "      <th>dow</th>\n",
       "      <th>width_bucket</th>\n",
       "    </tr>\n",
       "  </thead>\n",
       "  <tbody>\n",
       "    <tr>\n",
       "      <th>0</th>\n",
       "      <td>32</td>\n",
       "      <td>event_2</td>\n",
       "      <td>2022-08-21</td>\n",
       "      <td>00:24:54</td>\n",
       "      <td>evening</td>\n",
       "      <td>Sunday</td>\n",
       "      <td>1</td>\n",
       "    </tr>\n",
       "    <tr>\n",
       "      <th>1</th>\n",
       "      <td>32</td>\n",
       "      <td>event_2</td>\n",
       "      <td>2022-09-01</td>\n",
       "      <td>02:11:09</td>\n",
       "      <td>evening</td>\n",
       "      <td>Thursday</td>\n",
       "      <td>1</td>\n",
       "    </tr>\n",
       "    <tr>\n",
       "      <th>2</th>\n",
       "      <td>32</td>\n",
       "      <td>event_3</td>\n",
       "      <td>2022-09-01</td>\n",
       "      <td>02:00:47</td>\n",
       "      <td>evening</td>\n",
       "      <td>Thursday</td>\n",
       "      <td>1</td>\n",
       "    </tr>\n",
       "    <tr>\n",
       "      <th>3</th>\n",
       "      <td>32</td>\n",
       "      <td>event_2</td>\n",
       "      <td>2022-09-01</td>\n",
       "      <td>02:07:38</td>\n",
       "      <td>evening</td>\n",
       "      <td>Thursday</td>\n",
       "      <td>1</td>\n",
       "    </tr>\n",
       "    <tr>\n",
       "      <th>4</th>\n",
       "      <td>32</td>\n",
       "      <td>event_3</td>\n",
       "      <td>2022-09-01</td>\n",
       "      <td>02:06:16</td>\n",
       "      <td>evening</td>\n",
       "      <td>Thursday</td>\n",
       "      <td>1</td>\n",
       "    </tr>\n",
       "  </tbody>\n",
       "</table>\n",
       "</div>"
      ],
      "text/plain": [
       "   student event_type          dt        tm  tod_bin        dow  width_bucket\n",
       "0       32    event_2  2022-08-21  00:24:54  evening  Sunday                1\n",
       "1       32    event_2  2022-09-01  02:11:09  evening  Thursday              1\n",
       "2       32    event_3  2022-09-01  02:00:47  evening  Thursday              1\n",
       "3       32    event_2  2022-09-01  02:07:38  evening  Thursday              1\n",
       "4       32    event_3  2022-09-01  02:06:16  evening  Thursday              1"
      ]
     },
     "execution_count": 2,
     "metadata": {},
     "output_type": "execute_result"
    }
   ],
   "source": [
    "#reading in the dataset \n",
    "student = pd.read_csv('Student_32_10658.csv')\n",
    "student.head()"
   ]
  },
  {
   "cell_type": "code",
   "execution_count": 3,
   "id": "af10d21e",
   "metadata": {
    "scrolled": false
   },
   "outputs": [
    {
     "name": "stdout",
     "output_type": "stream",
     "text": [
      "<class 'pandas.core.frame.DataFrame'>\n",
      "RangeIndex: 10658 entries, 0 to 10657\n",
      "Data columns (total 7 columns):\n",
      " #   Column        Non-Null Count  Dtype \n",
      "---  ------        --------------  ----- \n",
      " 0   student       10658 non-null  int64 \n",
      " 1   event_type    10658 non-null  object\n",
      " 2   dt            10658 non-null  object\n",
      " 3   tm            10658 non-null  object\n",
      " 4   tod_bin       10658 non-null  object\n",
      " 5   dow           10658 non-null  object\n",
      " 6   width_bucket  10658 non-null  int64 \n",
      "dtypes: int64(2), object(5)\n",
      "memory usage: 583.0+ KB\n"
     ]
    }
   ],
   "source": [
    "#looking at dataset info\n",
    "student.info()"
   ]
  },
  {
   "cell_type": "markdown",
   "id": "01062112",
   "metadata": {},
   "source": [
    "The date and time of event columns are objects. We Will change these to the proper data types."
   ]
  },
  {
   "cell_type": "code",
   "execution_count": 4,
   "id": "c2affec2",
   "metadata": {},
   "outputs": [],
   "source": [
    "# Concatenate 'dt' and 'tm' columns and convert to datetime\n",
    "student['combined_datetime'] = pd.to_datetime(student['dt'] + ' ' + student['tm'])"
   ]
  },
  {
   "cell_type": "code",
   "execution_count": 6,
   "id": "df7d35a1",
   "metadata": {
    "scrolled": true
   },
   "outputs": [
    {
     "name": "stdout",
     "output_type": "stream",
     "text": [
      "<class 'pandas.core.frame.DataFrame'>\n",
      "RangeIndex: 10658 entries, 0 to 10657\n",
      "Data columns (total 8 columns):\n",
      " #   Column             Non-Null Count  Dtype         \n",
      "---  ------             --------------  -----         \n",
      " 0   student            10658 non-null  int64         \n",
      " 1   event_type         10658 non-null  object        \n",
      " 2   dt                 10658 non-null  object        \n",
      " 3   tm                 10658 non-null  object        \n",
      " 4   tod_bin            10658 non-null  object        \n",
      " 5   dow                10658 non-null  object        \n",
      " 6   width_bucket       10658 non-null  int64         \n",
      " 7   combined_datetime  10658 non-null  datetime64[ns]\n",
      "dtypes: datetime64[ns](1), int64(2), object(5)\n",
      "memory usage: 666.2+ KB\n"
     ]
    }
   ],
   "source": [
    "student.info()"
   ]
  },
  {
   "cell_type": "code",
   "execution_count": 7,
   "id": "80e4c4e6",
   "metadata": {
    "scrolled": false
   },
   "outputs": [
    {
     "data": {
      "text/html": [
       "<div>\n",
       "<style scoped>\n",
       "    .dataframe tbody tr th:only-of-type {\n",
       "        vertical-align: middle;\n",
       "    }\n",
       "\n",
       "    .dataframe tbody tr th {\n",
       "        vertical-align: top;\n",
       "    }\n",
       "\n",
       "    .dataframe thead th {\n",
       "        text-align: right;\n",
       "    }\n",
       "</style>\n",
       "<table border=\"1\" class=\"dataframe\">\n",
       "  <thead>\n",
       "    <tr style=\"text-align: right;\">\n",
       "      <th></th>\n",
       "      <th>student</th>\n",
       "      <th>event_type</th>\n",
       "      <th>dt</th>\n",
       "      <th>tm</th>\n",
       "      <th>tod_bin</th>\n",
       "      <th>dow</th>\n",
       "      <th>width_bucket</th>\n",
       "      <th>combined_datetime</th>\n",
       "    </tr>\n",
       "  </thead>\n",
       "  <tbody>\n",
       "    <tr>\n",
       "      <th>0</th>\n",
       "      <td>32</td>\n",
       "      <td>event_2</td>\n",
       "      <td>2022-08-21</td>\n",
       "      <td>00:24:54</td>\n",
       "      <td>evening</td>\n",
       "      <td>Sunday</td>\n",
       "      <td>1</td>\n",
       "      <td>2022-08-21 00:24:54</td>\n",
       "    </tr>\n",
       "    <tr>\n",
       "      <th>1</th>\n",
       "      <td>32</td>\n",
       "      <td>event_2</td>\n",
       "      <td>2022-09-01</td>\n",
       "      <td>02:11:09</td>\n",
       "      <td>evening</td>\n",
       "      <td>Thursday</td>\n",
       "      <td>1</td>\n",
       "      <td>2022-09-01 02:11:09</td>\n",
       "    </tr>\n",
       "    <tr>\n",
       "      <th>2</th>\n",
       "      <td>32</td>\n",
       "      <td>event_3</td>\n",
       "      <td>2022-09-01</td>\n",
       "      <td>02:00:47</td>\n",
       "      <td>evening</td>\n",
       "      <td>Thursday</td>\n",
       "      <td>1</td>\n",
       "      <td>2022-09-01 02:00:47</td>\n",
       "    </tr>\n",
       "    <tr>\n",
       "      <th>3</th>\n",
       "      <td>32</td>\n",
       "      <td>event_2</td>\n",
       "      <td>2022-09-01</td>\n",
       "      <td>02:07:38</td>\n",
       "      <td>evening</td>\n",
       "      <td>Thursday</td>\n",
       "      <td>1</td>\n",
       "      <td>2022-09-01 02:07:38</td>\n",
       "    </tr>\n",
       "    <tr>\n",
       "      <th>4</th>\n",
       "      <td>32</td>\n",
       "      <td>event_3</td>\n",
       "      <td>2022-09-01</td>\n",
       "      <td>02:06:16</td>\n",
       "      <td>evening</td>\n",
       "      <td>Thursday</td>\n",
       "      <td>1</td>\n",
       "      <td>2022-09-01 02:06:16</td>\n",
       "    </tr>\n",
       "  </tbody>\n",
       "</table>\n",
       "</div>"
      ],
      "text/plain": [
       "   student event_type          dt        tm  tod_bin        dow  width_bucket  \\\n",
       "0       32    event_2  2022-08-21  00:24:54  evening  Sunday                1   \n",
       "1       32    event_2  2022-09-01  02:11:09  evening  Thursday              1   \n",
       "2       32    event_3  2022-09-01  02:00:47  evening  Thursday              1   \n",
       "3       32    event_2  2022-09-01  02:07:38  evening  Thursday              1   \n",
       "4       32    event_3  2022-09-01  02:06:16  evening  Thursday              1   \n",
       "\n",
       "    combined_datetime  \n",
       "0 2022-08-21 00:24:54  \n",
       "1 2022-09-01 02:11:09  \n",
       "2 2022-09-01 02:00:47  \n",
       "3 2022-09-01 02:07:38  \n",
       "4 2022-09-01 02:06:16  "
      ]
     },
     "execution_count": 7,
     "metadata": {},
     "output_type": "execute_result"
    }
   ],
   "source": [
    "student.head()"
   ]
  },
  {
   "cell_type": "code",
   "execution_count": 8,
   "id": "77beb65a",
   "metadata": {},
   "outputs": [
    {
     "data": {
      "text/plain": [
       "student              0\n",
       "event_type           0\n",
       "dt                   0\n",
       "tm                   0\n",
       "tod_bin              0\n",
       "dow                  0\n",
       "width_bucket         0\n",
       "combined_datetime    0\n",
       "dtype: int64"
      ]
     },
     "execution_count": 8,
     "metadata": {},
     "output_type": "execute_result"
    }
   ],
   "source": [
    "#looking for missing values\n",
    "student.isnull().sum()"
   ]
  },
  {
   "cell_type": "code",
   "execution_count": 9,
   "id": "19219d8b",
   "metadata": {},
   "outputs": [
    {
     "data": {
      "text/plain": [
       "221"
      ]
     },
     "execution_count": 9,
     "metadata": {},
     "output_type": "execute_result"
    }
   ],
   "source": [
    "#looking at duplicates\n",
    "student.duplicated().sum()"
   ]
  },
  {
   "cell_type": "code",
   "execution_count": 10,
   "id": "bcf3c2a9",
   "metadata": {
    "scrolled": true
   },
   "outputs": [
    {
     "data": {
      "text/html": [
       "<div>\n",
       "<style scoped>\n",
       "    .dataframe tbody tr th:only-of-type {\n",
       "        vertical-align: middle;\n",
       "    }\n",
       "\n",
       "    .dataframe tbody tr th {\n",
       "        vertical-align: top;\n",
       "    }\n",
       "\n",
       "    .dataframe thead th {\n",
       "        text-align: right;\n",
       "    }\n",
       "</style>\n",
       "<table border=\"1\" class=\"dataframe\">\n",
       "  <thead>\n",
       "    <tr style=\"text-align: right;\">\n",
       "      <th></th>\n",
       "      <th>student</th>\n",
       "      <th>event_type</th>\n",
       "      <th>dt</th>\n",
       "      <th>tm</th>\n",
       "      <th>tod_bin</th>\n",
       "      <th>dow</th>\n",
       "      <th>width_bucket</th>\n",
       "      <th>combined_datetime</th>\n",
       "    </tr>\n",
       "  </thead>\n",
       "  <tbody>\n",
       "    <tr>\n",
       "      <th>2063</th>\n",
       "      <td>32</td>\n",
       "      <td>event_1</td>\n",
       "      <td>2022-10-19</td>\n",
       "      <td>16:43:08</td>\n",
       "      <td>afternoon</td>\n",
       "      <td>Wednesday</td>\n",
       "      <td>1</td>\n",
       "      <td>2022-10-19 16:43:08</td>\n",
       "    </tr>\n",
       "    <tr>\n",
       "      <th>2107</th>\n",
       "      <td>32</td>\n",
       "      <td>event_1</td>\n",
       "      <td>2022-10-19</td>\n",
       "      <td>16:24:05</td>\n",
       "      <td>afternoon</td>\n",
       "      <td>Wednesday</td>\n",
       "      <td>1</td>\n",
       "      <td>2022-10-19 16:24:05</td>\n",
       "    </tr>\n",
       "    <tr>\n",
       "      <th>2207</th>\n",
       "      <td>32</td>\n",
       "      <td>event_1</td>\n",
       "      <td>2022-10-18</td>\n",
       "      <td>15:09:00</td>\n",
       "      <td>afternoon</td>\n",
       "      <td>Tuesday</td>\n",
       "      <td>1</td>\n",
       "      <td>2022-10-18 15:09:00</td>\n",
       "    </tr>\n",
       "    <tr>\n",
       "      <th>2220</th>\n",
       "      <td>32</td>\n",
       "      <td>event_1</td>\n",
       "      <td>2022-10-30</td>\n",
       "      <td>19:59:53</td>\n",
       "      <td>evening</td>\n",
       "      <td>Sunday</td>\n",
       "      <td>1</td>\n",
       "      <td>2022-10-30 19:59:53</td>\n",
       "    </tr>\n",
       "    <tr>\n",
       "      <th>2266</th>\n",
       "      <td>32</td>\n",
       "      <td>event_1</td>\n",
       "      <td>2022-10-29</td>\n",
       "      <td>04:08:17</td>\n",
       "      <td>morning</td>\n",
       "      <td>Saturday</td>\n",
       "      <td>1</td>\n",
       "      <td>2022-10-29 04:08:17</td>\n",
       "    </tr>\n",
       "    <tr>\n",
       "      <th>...</th>\n",
       "      <td>...</td>\n",
       "      <td>...</td>\n",
       "      <td>...</td>\n",
       "      <td>...</td>\n",
       "      <td>...</td>\n",
       "      <td>...</td>\n",
       "      <td>...</td>\n",
       "      <td>...</td>\n",
       "    </tr>\n",
       "    <tr>\n",
       "      <th>10360</th>\n",
       "      <td>32</td>\n",
       "      <td>event_1</td>\n",
       "      <td>2023-03-29</td>\n",
       "      <td>21:16:21</td>\n",
       "      <td>evening</td>\n",
       "      <td>Wednesday</td>\n",
       "      <td>2</td>\n",
       "      <td>2023-03-29 21:16:21</td>\n",
       "    </tr>\n",
       "    <tr>\n",
       "      <th>10457</th>\n",
       "      <td>32</td>\n",
       "      <td>event_1</td>\n",
       "      <td>2023-03-26</td>\n",
       "      <td>04:31:53</td>\n",
       "      <td>morning</td>\n",
       "      <td>Sunday</td>\n",
       "      <td>2</td>\n",
       "      <td>2023-03-26 04:31:53</td>\n",
       "    </tr>\n",
       "    <tr>\n",
       "      <th>10512</th>\n",
       "      <td>32</td>\n",
       "      <td>event_1</td>\n",
       "      <td>2023-03-26</td>\n",
       "      <td>07:36:48</td>\n",
       "      <td>morning</td>\n",
       "      <td>Sunday</td>\n",
       "      <td>2</td>\n",
       "      <td>2023-03-26 07:36:48</td>\n",
       "    </tr>\n",
       "    <tr>\n",
       "      <th>10519</th>\n",
       "      <td>32</td>\n",
       "      <td>event_1</td>\n",
       "      <td>2023-03-26</td>\n",
       "      <td>07:42:12</td>\n",
       "      <td>morning</td>\n",
       "      <td>Sunday</td>\n",
       "      <td>2</td>\n",
       "      <td>2023-03-26 07:42:12</td>\n",
       "    </tr>\n",
       "    <tr>\n",
       "      <th>10546</th>\n",
       "      <td>32</td>\n",
       "      <td>event_1</td>\n",
       "      <td>2023-03-26</td>\n",
       "      <td>19:20:46</td>\n",
       "      <td>evening</td>\n",
       "      <td>Sunday</td>\n",
       "      <td>2</td>\n",
       "      <td>2023-03-26 19:20:46</td>\n",
       "    </tr>\n",
       "  </tbody>\n",
       "</table>\n",
       "<p>221 rows × 8 columns</p>\n",
       "</div>"
      ],
      "text/plain": [
       "       student event_type          dt        tm    tod_bin        dow  \\\n",
       "2063        32    event_1  2022-10-19  16:43:08  afternoon  Wednesday   \n",
       "2107        32    event_1  2022-10-19  16:24:05  afternoon  Wednesday   \n",
       "2207        32    event_1  2022-10-18  15:09:00  afternoon  Tuesday     \n",
       "2220        32    event_1  2022-10-30  19:59:53    evening  Sunday      \n",
       "2266        32    event_1  2022-10-29  04:08:17    morning  Saturday    \n",
       "...        ...        ...         ...       ...        ...        ...   \n",
       "10360       32    event_1  2023-03-29  21:16:21    evening  Wednesday   \n",
       "10457       32    event_1  2023-03-26  04:31:53    morning  Sunday      \n",
       "10512       32    event_1  2023-03-26  07:36:48    morning  Sunday      \n",
       "10519       32    event_1  2023-03-26  07:42:12    morning  Sunday      \n",
       "10546       32    event_1  2023-03-26  19:20:46    evening  Sunday      \n",
       "\n",
       "       width_bucket   combined_datetime  \n",
       "2063              1 2022-10-19 16:43:08  \n",
       "2107              1 2022-10-19 16:24:05  \n",
       "2207              1 2022-10-18 15:09:00  \n",
       "2220              1 2022-10-30 19:59:53  \n",
       "2266              1 2022-10-29 04:08:17  \n",
       "...             ...                 ...  \n",
       "10360             2 2023-03-29 21:16:21  \n",
       "10457             2 2023-03-26 04:31:53  \n",
       "10512             2 2023-03-26 07:36:48  \n",
       "10519             2 2023-03-26 07:42:12  \n",
       "10546             2 2023-03-26 19:20:46  \n",
       "\n",
       "[221 rows x 8 columns]"
      ]
     },
     "execution_count": 10,
     "metadata": {},
     "output_type": "execute_result"
    }
   ],
   "source": [
    "#looking at duplicated rows\n",
    "student[student.duplicated()]"
   ]
  },
  {
   "cell_type": "code",
   "execution_count": 11,
   "id": "da56fd4e",
   "metadata": {},
   "outputs": [],
   "source": [
    "#dropping duplicate rows \n",
    "student = student.drop_duplicates()"
   ]
  },
  {
   "cell_type": "code",
   "execution_count": 12,
   "id": "6373a388",
   "metadata": {},
   "outputs": [
    {
     "data": {
      "text/plain": [
       "(10437, 8)"
      ]
     },
     "execution_count": 12,
     "metadata": {},
     "output_type": "execute_result"
    }
   ],
   "source": [
    "#looking to make sure duplicate rows are dropped \n",
    "student.shape"
   ]
  },
  {
   "cell_type": "markdown",
   "id": "b932f808",
   "metadata": {},
   "source": [
    "There are 221 duplicated rows for the event type, we have dropped the duplicates. We have also changed necessary data types and looked for null values of which there were none. "
   ]
  },
  {
   "cell_type": "code",
   "execution_count": 13,
   "id": "5126e294",
   "metadata": {},
   "outputs": [
    {
     "data": {
      "text/plain": [
       "array([32], dtype=int64)"
      ]
     },
     "execution_count": 13,
     "metadata": {},
     "output_type": "execute_result"
    }
   ],
   "source": [
    "#looking at student unique values\n",
    "student['student'].unique()"
   ]
  },
  {
   "cell_type": "code",
   "execution_count": 14,
   "id": "fc3c0e20",
   "metadata": {},
   "outputs": [
    {
     "data": {
      "text/plain": [
       "array(['event_2', 'event_3', 'event_1'], dtype=object)"
      ]
     },
     "execution_count": 14,
     "metadata": {},
     "output_type": "execute_result"
    }
   ],
   "source": [
    "#looking at event_type unique values\n",
    "student['event_type'].unique()"
   ]
  },
  {
   "cell_type": "code",
   "execution_count": 15,
   "id": "30d02f6c",
   "metadata": {},
   "outputs": [
    {
     "data": {
      "text/plain": [
       "2022-10-29    234\n",
       "2023-05-26    206\n",
       "2023-01-26    195\n",
       "2022-12-21    189\n",
       "2022-10-28    187\n",
       "             ... \n",
       "2022-09-07      1\n",
       "2022-12-11      1\n",
       "2022-11-05      1\n",
       "2023-01-31      1\n",
       "2023-05-31      1\n",
       "Name: dt, Length: 266, dtype: int64"
      ]
     },
     "execution_count": 15,
     "metadata": {},
     "output_type": "execute_result"
    }
   ],
   "source": [
    "#looking at number of date occurances\n",
    "student['dt'].value_counts()"
   ]
  },
  {
   "cell_type": "code",
   "execution_count": 16,
   "id": "1c2400f8",
   "metadata": {},
   "outputs": [
    {
     "data": {
      "text/plain": [
       "02:33:16    5\n",
       "02:24:33    4\n",
       "03:14:51    4\n",
       "05:49:36    3\n",
       "00:44:51    3\n",
       "           ..\n",
       "06:28:20    1\n",
       "05:59:58    1\n",
       "05:58:42    1\n",
       "02:55:21    1\n",
       "06:48:35    1\n",
       "Name: tm, Length: 9538, dtype: int64"
      ]
     },
     "execution_count": 16,
     "metadata": {},
     "output_type": "execute_result"
    }
   ],
   "source": [
    "#looking at time occurances\n",
    "student['tm'].value_counts()"
   ]
  },
  {
   "cell_type": "code",
   "execution_count": 17,
   "id": "2266e923",
   "metadata": {},
   "outputs": [
    {
     "data": {
      "text/plain": [
       "array(['evening', 'afternoon', 'morning'], dtype=object)"
      ]
     },
     "execution_count": 17,
     "metadata": {},
     "output_type": "execute_result"
    }
   ],
   "source": [
    "#looking at time of day unique values\n",
    "student['tod_bin'].unique()"
   ]
  },
  {
   "cell_type": "code",
   "execution_count": 18,
   "id": "940191c8",
   "metadata": {},
   "outputs": [
    {
     "data": {
      "text/plain": [
       "array(['Sunday   ', 'Thursday ', 'Saturday ', 'Wednesday', 'Tuesday  ',\n",
       "       'Friday   ', 'Monday   '], dtype=object)"
      ]
     },
     "execution_count": 18,
     "metadata": {},
     "output_type": "execute_result"
    }
   ],
   "source": [
    "#looking at day of week unique values\n",
    "student['dow'].unique()"
   ]
  },
  {
   "cell_type": "code",
   "execution_count": 19,
   "id": "faafe62d",
   "metadata": {},
   "outputs": [
    {
     "data": {
      "text/plain": [
       "array([1, 2, 3], dtype=int64)"
      ]
     },
     "execution_count": 19,
     "metadata": {},
     "output_type": "execute_result"
    }
   ],
   "source": [
    "#looking at event stages \n",
    "student['width_bucket'].unique()"
   ]
  },
  {
   "cell_type": "code",
   "execution_count": 20,
   "id": "637e48f7",
   "metadata": {},
   "outputs": [
    {
     "data": {
      "text/plain": [
       "'2022-08-03'"
      ]
     },
     "execution_count": 20,
     "metadata": {},
     "output_type": "execute_result"
    }
   ],
   "source": [
    "#looking at earliest date\n",
    "student['dt'].min()"
   ]
  },
  {
   "cell_type": "code",
   "execution_count": 21,
   "id": "4b926580",
   "metadata": {},
   "outputs": [
    {
     "data": {
      "text/plain": [
       "'2023-07-27'"
      ]
     },
     "execution_count": 21,
     "metadata": {},
     "output_type": "execute_result"
    }
   ],
   "source": [
    "#looking at latest date\n",
    "student['dt'].max()"
   ]
  },
  {
   "cell_type": "markdown",
   "id": "f9e85014",
   "metadata": {},
   "source": [
    "The earliest log in date is 8/3/2022 and latest log in date is 7/27/23. "
   ]
  },
  {
   "cell_type": "code",
   "execution_count": 22,
   "id": "bd204e1a",
   "metadata": {
    "scrolled": false
   },
   "outputs": [
    {
     "data": {
      "text/html": [
       "<div>\n",
       "<style scoped>\n",
       "    .dataframe tbody tr th:only-of-type {\n",
       "        vertical-align: middle;\n",
       "    }\n",
       "\n",
       "    .dataframe tbody tr th {\n",
       "        vertical-align: top;\n",
       "    }\n",
       "\n",
       "    .dataframe thead th {\n",
       "        text-align: right;\n",
       "    }\n",
       "</style>\n",
       "<table border=\"1\" class=\"dataframe\">\n",
       "  <thead>\n",
       "    <tr style=\"text-align: right;\">\n",
       "      <th></th>\n",
       "      <th>student</th>\n",
       "      <th>event_type</th>\n",
       "      <th>dt</th>\n",
       "      <th>tm</th>\n",
       "      <th>tod_bin</th>\n",
       "      <th>dow</th>\n",
       "      <th>width_bucket</th>\n",
       "      <th>combined_datetime</th>\n",
       "    </tr>\n",
       "  </thead>\n",
       "  <tbody>\n",
       "    <tr>\n",
       "      <th>count</th>\n",
       "      <td>10437.0</td>\n",
       "      <td>10437</td>\n",
       "      <td>10437</td>\n",
       "      <td>10437</td>\n",
       "      <td>10437</td>\n",
       "      <td>10437</td>\n",
       "      <td>10437.000000</td>\n",
       "      <td>10437</td>\n",
       "    </tr>\n",
       "    <tr>\n",
       "      <th>unique</th>\n",
       "      <td>NaN</td>\n",
       "      <td>3</td>\n",
       "      <td>266</td>\n",
       "      <td>9538</td>\n",
       "      <td>3</td>\n",
       "      <td>7</td>\n",
       "      <td>NaN</td>\n",
       "      <td>10433</td>\n",
       "    </tr>\n",
       "    <tr>\n",
       "      <th>top</th>\n",
       "      <td>NaN</td>\n",
       "      <td>event_1</td>\n",
       "      <td>2022-10-29</td>\n",
       "      <td>02:33:16</td>\n",
       "      <td>evening</td>\n",
       "      <td>Friday</td>\n",
       "      <td>NaN</td>\n",
       "      <td>2022-10-09 18:08:21</td>\n",
       "    </tr>\n",
       "    <tr>\n",
       "      <th>freq</th>\n",
       "      <td>NaN</td>\n",
       "      <td>8603</td>\n",
       "      <td>234</td>\n",
       "      <td>5</td>\n",
       "      <td>6494</td>\n",
       "      <td>2071</td>\n",
       "      <td>NaN</td>\n",
       "      <td>2</td>\n",
       "    </tr>\n",
       "    <tr>\n",
       "      <th>first</th>\n",
       "      <td>NaN</td>\n",
       "      <td>NaN</td>\n",
       "      <td>NaN</td>\n",
       "      <td>NaN</td>\n",
       "      <td>NaN</td>\n",
       "      <td>NaN</td>\n",
       "      <td>NaN</td>\n",
       "      <td>2022-08-03 21:15:14</td>\n",
       "    </tr>\n",
       "    <tr>\n",
       "      <th>last</th>\n",
       "      <td>NaN</td>\n",
       "      <td>NaN</td>\n",
       "      <td>NaN</td>\n",
       "      <td>NaN</td>\n",
       "      <td>NaN</td>\n",
       "      <td>NaN</td>\n",
       "      <td>NaN</td>\n",
       "      <td>2023-07-27 04:23:33</td>\n",
       "    </tr>\n",
       "    <tr>\n",
       "      <th>mean</th>\n",
       "      <td>32.0</td>\n",
       "      <td>NaN</td>\n",
       "      <td>NaN</td>\n",
       "      <td>NaN</td>\n",
       "      <td>NaN</td>\n",
       "      <td>NaN</td>\n",
       "      <td>2.016767</td>\n",
       "      <td>NaN</td>\n",
       "    </tr>\n",
       "    <tr>\n",
       "      <th>std</th>\n",
       "      <td>0.0</td>\n",
       "      <td>NaN</td>\n",
       "      <td>NaN</td>\n",
       "      <td>NaN</td>\n",
       "      <td>NaN</td>\n",
       "      <td>NaN</td>\n",
       "      <td>0.736971</td>\n",
       "      <td>NaN</td>\n",
       "    </tr>\n",
       "    <tr>\n",
       "      <th>min</th>\n",
       "      <td>32.0</td>\n",
       "      <td>NaN</td>\n",
       "      <td>NaN</td>\n",
       "      <td>NaN</td>\n",
       "      <td>NaN</td>\n",
       "      <td>NaN</td>\n",
       "      <td>1.000000</td>\n",
       "      <td>NaN</td>\n",
       "    </tr>\n",
       "    <tr>\n",
       "      <th>25%</th>\n",
       "      <td>32.0</td>\n",
       "      <td>NaN</td>\n",
       "      <td>NaN</td>\n",
       "      <td>NaN</td>\n",
       "      <td>NaN</td>\n",
       "      <td>NaN</td>\n",
       "      <td>1.000000</td>\n",
       "      <td>NaN</td>\n",
       "    </tr>\n",
       "    <tr>\n",
       "      <th>50%</th>\n",
       "      <td>32.0</td>\n",
       "      <td>NaN</td>\n",
       "      <td>NaN</td>\n",
       "      <td>NaN</td>\n",
       "      <td>NaN</td>\n",
       "      <td>NaN</td>\n",
       "      <td>2.000000</td>\n",
       "      <td>NaN</td>\n",
       "    </tr>\n",
       "    <tr>\n",
       "      <th>75%</th>\n",
       "      <td>32.0</td>\n",
       "      <td>NaN</td>\n",
       "      <td>NaN</td>\n",
       "      <td>NaN</td>\n",
       "      <td>NaN</td>\n",
       "      <td>NaN</td>\n",
       "      <td>3.000000</td>\n",
       "      <td>NaN</td>\n",
       "    </tr>\n",
       "    <tr>\n",
       "      <th>max</th>\n",
       "      <td>32.0</td>\n",
       "      <td>NaN</td>\n",
       "      <td>NaN</td>\n",
       "      <td>NaN</td>\n",
       "      <td>NaN</td>\n",
       "      <td>NaN</td>\n",
       "      <td>3.000000</td>\n",
       "      <td>NaN</td>\n",
       "    </tr>\n",
       "  </tbody>\n",
       "</table>\n",
       "</div>"
      ],
      "text/plain": [
       "        student event_type          dt        tm  tod_bin        dow  \\\n",
       "count   10437.0      10437       10437     10437    10437      10437   \n",
       "unique      NaN          3         266      9538        3          7   \n",
       "top         NaN    event_1  2022-10-29  02:33:16  evening  Friday      \n",
       "freq        NaN       8603         234         5     6494       2071   \n",
       "first       NaN        NaN         NaN       NaN      NaN        NaN   \n",
       "last        NaN        NaN         NaN       NaN      NaN        NaN   \n",
       "mean       32.0        NaN         NaN       NaN      NaN        NaN   \n",
       "std         0.0        NaN         NaN       NaN      NaN        NaN   \n",
       "min        32.0        NaN         NaN       NaN      NaN        NaN   \n",
       "25%        32.0        NaN         NaN       NaN      NaN        NaN   \n",
       "50%        32.0        NaN         NaN       NaN      NaN        NaN   \n",
       "75%        32.0        NaN         NaN       NaN      NaN        NaN   \n",
       "max        32.0        NaN         NaN       NaN      NaN        NaN   \n",
       "\n",
       "        width_bucket    combined_datetime  \n",
       "count   10437.000000                10437  \n",
       "unique           NaN                10433  \n",
       "top              NaN  2022-10-09 18:08:21  \n",
       "freq             NaN                    2  \n",
       "first            NaN  2022-08-03 21:15:14  \n",
       "last             NaN  2023-07-27 04:23:33  \n",
       "mean        2.016767                  NaN  \n",
       "std         0.736971                  NaN  \n",
       "min         1.000000                  NaN  \n",
       "25%         1.000000                  NaN  \n",
       "50%         2.000000                  NaN  \n",
       "75%         3.000000                  NaN  \n",
       "max         3.000000                  NaN  "
      ]
     },
     "execution_count": 22,
     "metadata": {},
     "output_type": "execute_result"
    }
   ],
   "source": [
    "student.describe(include='all')"
   ]
  },
  {
   "cell_type": "markdown",
   "id": "207dd20e",
   "metadata": {},
   "source": [
    "Event_1, evening time, and Fridays occur the most. The average amount of times the user logged on was during the middle third of the program. "
   ]
  },
  {
   "cell_type": "code",
   "execution_count": 23,
   "id": "ed347942",
   "metadata": {
    "scrolled": true
   },
   "outputs": [
    {
     "data": {
      "image/png": "[encoded data removed]",
      "text/plain": [
       "<Figure size 640x480 with 1 Axes>"
      ]
     },
     "metadata": {},
     "output_type": "display_data"
    }
   ],
   "source": [
    "sns.histplot(data=student, x=\"combined_datetime\")\n",
    "plt.title('Distribution of Activity Dates')\n",
    "plt.xlabel('Date');"
   ]
  },
  {
   "cell_type": "markdown",
   "id": "dbcab05d",
   "metadata": {},
   "source": [
    "The highest occurance of logins seem to occur during end of January to March. "
   ]
  },
  {
   "cell_type": "code",
   "execution_count": 24,
   "id": "5c82ad16",
   "metadata": {},
   "outputs": [],
   "source": [
    "student['hour'] = student['combined_datetime'].dt.hour"
   ]
  },
  {
   "cell_type": "code",
   "execution_count": 25,
   "id": "574b9413",
   "metadata": {},
   "outputs": [
    {
     "data": {
      "image/png": "[encoded data removed]",
      "text/plain": [
       "<Figure size 640x480 with 1 Axes>"
      ]
     },
     "metadata": {},
     "output_type": "display_data"
    }
   ],
   "source": [
    "sns.histplot(data=student, x=\"hour\", bins = 25)\n",
    "plt.title('Distribution of Activity Time');"
   ]
  },
  {
   "cell_type": "markdown",
   "id": "c7722523",
   "metadata": {},
   "source": [
    "The times of activity that occurs the most are during the early hours of the morning between 3-5am. "
   ]
  },
  {
   "cell_type": "code",
   "execution_count": 26,
   "id": "ff548311",
   "metadata": {
    "scrolled": false
   },
   "outputs": [
    {
     "data": {
      "text/html": [
       "<div>\n",
       "<style scoped>\n",
       "    .dataframe tbody tr th:only-of-type {\n",
       "        vertical-align: middle;\n",
       "    }\n",
       "\n",
       "    .dataframe tbody tr th {\n",
       "        vertical-align: top;\n",
       "    }\n",
       "\n",
       "    .dataframe thead th {\n",
       "        text-align: right;\n",
       "    }\n",
       "</style>\n",
       "<table border=\"1\" class=\"dataframe\">\n",
       "  <thead>\n",
       "    <tr style=\"text-align: right;\">\n",
       "      <th></th>\n",
       "      <th>event_type</th>\n",
       "      <th>total_occurrance</th>\n",
       "    </tr>\n",
       "  </thead>\n",
       "  <tbody>\n",
       "    <tr>\n",
       "      <th>0</th>\n",
       "      <td>event_1</td>\n",
       "      <td>8603</td>\n",
       "    </tr>\n",
       "    <tr>\n",
       "      <th>1</th>\n",
       "      <td>event_3</td>\n",
       "      <td>987</td>\n",
       "    </tr>\n",
       "    <tr>\n",
       "      <th>2</th>\n",
       "      <td>event_2</td>\n",
       "      <td>847</td>\n",
       "    </tr>\n",
       "  </tbody>\n",
       "</table>\n",
       "</div>"
      ],
      "text/plain": [
       "  event_type  total_occurrance\n",
       "0    event_1              8603\n",
       "1    event_3               987\n",
       "2    event_2               847"
      ]
     },
     "execution_count": 26,
     "metadata": {},
     "output_type": "execute_result"
    }
   ],
   "source": [
    "#looking at relationship between time of day and event\n",
    "events = student['event_type'].value_counts().sort_values(ascending=False).reset_index()\n",
    "events.columns = ['event_type', 'total_occurrance']\n",
    "events"
   ]
  },
  {
   "cell_type": "code",
   "execution_count": 27,
   "id": "dfc3760e",
   "metadata": {},
   "outputs": [
    {
     "data": {
      "text/html": [
       "<div>\n",
       "<style scoped>\n",
       "    .dataframe tbody tr th:only-of-type {\n",
       "        vertical-align: middle;\n",
       "    }\n",
       "\n",
       "    .dataframe tbody tr th {\n",
       "        vertical-align: top;\n",
       "    }\n",
       "\n",
       "    .dataframe thead th {\n",
       "        text-align: right;\n",
       "    }\n",
       "</style>\n",
       "<table border=\"1\" class=\"dataframe\">\n",
       "  <thead>\n",
       "    <tr style=\"text-align: right;\">\n",
       "      <th></th>\n",
       "      <th>event_type</th>\n",
       "      <th>afternoon</th>\n",
       "      <th>evening</th>\n",
       "      <th>morning</th>\n",
       "    </tr>\n",
       "  </thead>\n",
       "  <tbody>\n",
       "    <tr>\n",
       "      <th>0</th>\n",
       "      <td>event_1</td>\n",
       "      <td>265</td>\n",
       "      <td>5142</td>\n",
       "      <td>3196</td>\n",
       "    </tr>\n",
       "    <tr>\n",
       "      <th>1</th>\n",
       "      <td>event_2</td>\n",
       "      <td>54</td>\n",
       "      <td>622</td>\n",
       "      <td>171</td>\n",
       "    </tr>\n",
       "    <tr>\n",
       "      <th>2</th>\n",
       "      <td>event_3</td>\n",
       "      <td>59</td>\n",
       "      <td>730</td>\n",
       "      <td>198</td>\n",
       "    </tr>\n",
       "  </tbody>\n",
       "</table>\n",
       "</div>"
      ],
      "text/plain": [
       "  event_type  afternoon  evening  morning\n",
       "0    event_1        265     5142     3196\n",
       "1    event_2         54      622      171\n",
       "2    event_3         59      730      198"
      ]
     },
     "execution_count": 27,
     "metadata": {},
     "output_type": "execute_result"
    }
   ],
   "source": [
    "#looking at relationship between time of day and event, breaking it down even further\n",
    "tod_event = student.pivot_table(values='student', index='event_type', columns='tod_bin', aggfunc='count').reset_index()\n",
    "tod_event.columns = ['event_type', 'afternoon', 'evening', 'morning']\n",
    "tod_event"
   ]
  },
  {
   "cell_type": "code",
   "execution_count": 28,
   "id": "79dd3145",
   "metadata": {},
   "outputs": [
    {
     "data": {
      "image/png": "[encoded data removed]",
      "text/plain": [
       "<Figure size 1000x600 with 1 Axes>"
      ]
     },
     "metadata": {},
     "output_type": "display_data"
    }
   ],
   "source": [
    "#graphing relationship between time of day and event\n",
    "plt.figure(figsize=(10, 6))\n",
    "sns.barplot(x='event_type', y='evening', data=tod_event, color='blue', label='Evening')\n",
    "sns.barplot(x='event_type', y='morning', data=tod_event, color='green', label='Morning')\n",
    "sns.barplot(x='event_type', y='afternoon', data=tod_event, color='red', label='Afternoon')\n",
    "\n",
    "# Adding labels and title\n",
    "plt.xlabel('Event Type')\n",
    "plt.ylabel('Count')\n",
    "plt.title('Event Type Count by Time of Day')\n",
    "plt.legend()\n",
    "\n",
    "plt.xticks(rotation=45)  # Rotate x-axis labels for better visibility\n",
    "plt.tight_layout()\n",
    "\n",
    "plt.show();"
   ]
  },
  {
   "cell_type": "markdown",
   "id": "9b71b5c5",
   "metadata": {},
   "source": [
    "The number of lessons opened occurs the most followed by completed tasks. Event_1 also leads by a huge margin."
   ]
  },
  {
   "cell_type": "code",
   "execution_count": 29,
   "id": "d1b78a05",
   "metadata": {
    "scrolled": false
   },
   "outputs": [
    {
     "data": {
      "text/html": [
       "<div>\n",
       "<style scoped>\n",
       "    .dataframe tbody tr th:only-of-type {\n",
       "        vertical-align: middle;\n",
       "    }\n",
       "\n",
       "    .dataframe tbody tr th {\n",
       "        vertical-align: top;\n",
       "    }\n",
       "\n",
       "    .dataframe thead th {\n",
       "        text-align: right;\n",
       "    }\n",
       "</style>\n",
       "<table border=\"1\" class=\"dataframe\">\n",
       "  <thead>\n",
       "    <tr style=\"text-align: right;\">\n",
       "      <th></th>\n",
       "      <th>period_program_completed</th>\n",
       "      <th>total_occurrance</th>\n",
       "    </tr>\n",
       "  </thead>\n",
       "  <tbody>\n",
       "    <tr>\n",
       "      <th>0</th>\n",
       "      <td>2</td>\n",
       "      <td>4766</td>\n",
       "    </tr>\n",
       "    <tr>\n",
       "      <th>1</th>\n",
       "      <td>3</td>\n",
       "      <td>2923</td>\n",
       "    </tr>\n",
       "    <tr>\n",
       "      <th>2</th>\n",
       "      <td>1</td>\n",
       "      <td>2748</td>\n",
       "    </tr>\n",
       "  </tbody>\n",
       "</table>\n",
       "</div>"
      ],
      "text/plain": [
       "   period_program_completed  total_occurrance\n",
       "0                         2              4766\n",
       "1                         3              2923\n",
       "2                         1              2748"
      ]
     },
     "execution_count": 29,
     "metadata": {},
     "output_type": "execute_result"
    }
   ],
   "source": [
    "#Seeing how many logins associated with completion of which part of the program. sorting them by frequency \n",
    "period_program_completed = student['width_bucket'].value_counts().sort_values(ascending=False).reset_index()\n",
    "period_program_completed.columns = ['period_program_completed', 'total_occurrance']\n",
    "period_program_completed"
   ]
  },
  {
   "cell_type": "code",
   "execution_count": 30,
   "id": "69664b1e",
   "metadata": {},
   "outputs": [
    {
     "data": {
      "image/png": "[encoded data removed]",
      "text/plain": [
       "<Figure size 640x480 with 1 Axes>"
      ]
     },
     "metadata": {},
     "output_type": "display_data"
    }
   ],
   "source": [
    "#plotting the logins during bootcamp period \n",
    "sns.barplot(data=period_program_completed, x='period_program_completed', y='total_occurrance')\n",
    "plt.title('Total Activity During Period of Bootcamp')\n",
    "plt.xlabel('Period of Program')\n",
    "plt.ylabel('Count');"
   ]
  },
  {
   "cell_type": "markdown",
   "id": "b86a37d6",
   "metadata": {},
   "source": [
    "The majority of the logins occur during the middle third of the program. "
   ]
  },
  {
   "cell_type": "code",
   "execution_count": 31,
   "id": "e80d7463",
   "metadata": {
    "scrolled": true
   },
   "outputs": [
    {
     "data": {
      "text/html": [
       "<div>\n",
       "<style scoped>\n",
       "    .dataframe tbody tr th:only-of-type {\n",
       "        vertical-align: middle;\n",
       "    }\n",
       "\n",
       "    .dataframe tbody tr th {\n",
       "        vertical-align: top;\n",
       "    }\n",
       "\n",
       "    .dataframe thead th {\n",
       "        text-align: right;\n",
       "    }\n",
       "</style>\n",
       "<table border=\"1\" class=\"dataframe\">\n",
       "  <thead>\n",
       "    <tr style=\"text-align: right;\">\n",
       "      <th></th>\n",
       "      <th>event_type</th>\n",
       "      <th>Friday</th>\n",
       "      <th>Monday</th>\n",
       "      <th>Saturday</th>\n",
       "      <th>Sunday</th>\n",
       "      <th>Thursday</th>\n",
       "      <th>Tuesday</th>\n",
       "      <th>Wednesday</th>\n",
       "    </tr>\n",
       "  </thead>\n",
       "  <tbody>\n",
       "    <tr>\n",
       "      <th>0</th>\n",
       "      <td>event_1</td>\n",
       "      <td>1758</td>\n",
       "      <td>806</td>\n",
       "      <td>1180</td>\n",
       "      <td>1410</td>\n",
       "      <td>1059</td>\n",
       "      <td>910</td>\n",
       "      <td>1480</td>\n",
       "    </tr>\n",
       "    <tr>\n",
       "      <th>1</th>\n",
       "      <td>event_2</td>\n",
       "      <td>107</td>\n",
       "      <td>44</td>\n",
       "      <td>150</td>\n",
       "      <td>108</td>\n",
       "      <td>196</td>\n",
       "      <td>110</td>\n",
       "      <td>132</td>\n",
       "    </tr>\n",
       "    <tr>\n",
       "      <th>2</th>\n",
       "      <td>event_3</td>\n",
       "      <td>206</td>\n",
       "      <td>82</td>\n",
       "      <td>110</td>\n",
       "      <td>126</td>\n",
       "      <td>202</td>\n",
       "      <td>103</td>\n",
       "      <td>158</td>\n",
       "    </tr>\n",
       "  </tbody>\n",
       "</table>\n",
       "</div>"
      ],
      "text/plain": [
       "  event_type  Friday  Monday  Saturday  Sunday  Thursday  Tuesday  Wednesday\n",
       "0    event_1    1758     806      1180    1410      1059      910       1480\n",
       "1    event_2     107      44       150     108       196      110        132\n",
       "2    event_3     206      82       110     126       202      103        158"
      ]
     },
     "execution_count": 31,
     "metadata": {},
     "output_type": "execute_result"
    }
   ],
   "source": [
    "#looking at relationship between day of week and event_type\n",
    "dow_event = student.pivot_table(values='student', index='event_type', columns='dow', aggfunc='count'). reset_index()\n",
    "dow_event.columns = ['event_type','Friday', 'Monday', 'Saturday', 'Sunday', 'Thursday', 'Tuesday', 'Wednesday']\n",
    "dow_event"
   ]
  },
  {
   "cell_type": "code",
   "execution_count": 32,
   "id": "828e8128",
   "metadata": {},
   "outputs": [
    {
     "data": {
      "image/png": "[encoded data removed]",
      "text/plain": [
       "<Figure size 1000x600 with 1 Axes>"
      ]
     },
     "metadata": {},
     "output_type": "display_data"
    }
   ],
   "source": [
    "#plotting relationship between day of week and event_type\n",
    "# Reorder the columns\n",
    "column_order = ['Monday', 'Tuesday', 'Wednesday', 'Thursday', 'Friday', 'Saturday', 'Sunday']\n",
    "dow_event = dow_event.reindex(columns=['event_type'] + column_order)\n",
    "\n",
    "# Melt the DataFrame for Seaborn plotting\n",
    "dow_event_melted = pd.melt(dow_event, id_vars='event_type', var_name='Day of Week', value_name='Count')\n",
    "\n",
    "# Create a bar plot using Seaborn\n",
    "plt.figure(figsize=(10, 6))\n",
    "sns.barplot(x='Day of Week', y='Count', hue='event_type', data=dow_event_melted, palette='viridis')\n",
    "\n",
    "# Adding labels and title\n",
    "plt.xlabel('Day of Week')\n",
    "plt.ylabel('Count')\n",
    "plt.title('Event Type Count by Day of Week')\n",
    "\n",
    "plt.legend()\n",
    "plt.tight_layout()\n",
    "plt.show()"
   ]
  },
  {
   "cell_type": "markdown",
   "id": "9ba7107b",
   "metadata": {},
   "source": [
    "It seems that Wednesdays and Fridays are the most active days for the student. "
   ]
  },
  {
   "cell_type": "code",
   "execution_count": 33,
   "id": "d5ea89fa",
   "metadata": {},
   "outputs": [],
   "source": [
    "#adding column for month\n",
    "student['dt_month'] = student['combined_datetime'].dt.month"
   ]
  },
  {
   "cell_type": "code",
   "execution_count": 34,
   "id": "83c0f03a",
   "metadata": {
    "scrolled": false
   },
   "outputs": [
    {
     "data": {
      "text/html": [
       "<div>\n",
       "<style scoped>\n",
       "    .dataframe tbody tr th:only-of-type {\n",
       "        vertical-align: middle;\n",
       "    }\n",
       "\n",
       "    .dataframe tbody tr th {\n",
       "        vertical-align: top;\n",
       "    }\n",
       "\n",
       "    .dataframe thead th {\n",
       "        text-align: right;\n",
       "    }\n",
       "</style>\n",
       "<table border=\"1\" class=\"dataframe\">\n",
       "  <thead>\n",
       "    <tr style=\"text-align: right;\">\n",
       "      <th></th>\n",
       "      <th>student</th>\n",
       "      <th>event_type</th>\n",
       "      <th>dt</th>\n",
       "      <th>tm</th>\n",
       "      <th>tod_bin</th>\n",
       "      <th>dow</th>\n",
       "      <th>width_bucket</th>\n",
       "      <th>combined_datetime</th>\n",
       "      <th>hour</th>\n",
       "      <th>dt_month</th>\n",
       "    </tr>\n",
       "  </thead>\n",
       "  <tbody>\n",
       "    <tr>\n",
       "      <th>0</th>\n",
       "      <td>32</td>\n",
       "      <td>event_2</td>\n",
       "      <td>2022-08-21</td>\n",
       "      <td>00:24:54</td>\n",
       "      <td>evening</td>\n",
       "      <td>Sunday</td>\n",
       "      <td>1</td>\n",
       "      <td>2022-08-21 00:24:54</td>\n",
       "      <td>0</td>\n",
       "      <td>8</td>\n",
       "    </tr>\n",
       "    <tr>\n",
       "      <th>1</th>\n",
       "      <td>32</td>\n",
       "      <td>event_2</td>\n",
       "      <td>2022-09-01</td>\n",
       "      <td>02:11:09</td>\n",
       "      <td>evening</td>\n",
       "      <td>Thursday</td>\n",
       "      <td>1</td>\n",
       "      <td>2022-09-01 02:11:09</td>\n",
       "      <td>2</td>\n",
       "      <td>9</td>\n",
       "    </tr>\n",
       "    <tr>\n",
       "      <th>2</th>\n",
       "      <td>32</td>\n",
       "      <td>event_3</td>\n",
       "      <td>2022-09-01</td>\n",
       "      <td>02:00:47</td>\n",
       "      <td>evening</td>\n",
       "      <td>Thursday</td>\n",
       "      <td>1</td>\n",
       "      <td>2022-09-01 02:00:47</td>\n",
       "      <td>2</td>\n",
       "      <td>9</td>\n",
       "    </tr>\n",
       "    <tr>\n",
       "      <th>3</th>\n",
       "      <td>32</td>\n",
       "      <td>event_2</td>\n",
       "      <td>2022-09-01</td>\n",
       "      <td>02:07:38</td>\n",
       "      <td>evening</td>\n",
       "      <td>Thursday</td>\n",
       "      <td>1</td>\n",
       "      <td>2022-09-01 02:07:38</td>\n",
       "      <td>2</td>\n",
       "      <td>9</td>\n",
       "    </tr>\n",
       "    <tr>\n",
       "      <th>4</th>\n",
       "      <td>32</td>\n",
       "      <td>event_3</td>\n",
       "      <td>2022-09-01</td>\n",
       "      <td>02:06:16</td>\n",
       "      <td>evening</td>\n",
       "      <td>Thursday</td>\n",
       "      <td>1</td>\n",
       "      <td>2022-09-01 02:06:16</td>\n",
       "      <td>2</td>\n",
       "      <td>9</td>\n",
       "    </tr>\n",
       "  </tbody>\n",
       "</table>\n",
       "</div>"
      ],
      "text/plain": [
       "   student event_type          dt        tm  tod_bin        dow  width_bucket  \\\n",
       "0       32    event_2  2022-08-21  00:24:54  evening  Sunday                1   \n",
       "1       32    event_2  2022-09-01  02:11:09  evening  Thursday              1   \n",
       "2       32    event_3  2022-09-01  02:00:47  evening  Thursday              1   \n",
       "3       32    event_2  2022-09-01  02:07:38  evening  Thursday              1   \n",
       "4       32    event_3  2022-09-01  02:06:16  evening  Thursday              1   \n",
       "\n",
       "    combined_datetime  hour  dt_month  \n",
       "0 2022-08-21 00:24:54     0         8  \n",
       "1 2022-09-01 02:11:09     2         9  \n",
       "2 2022-09-01 02:00:47     2         9  \n",
       "3 2022-09-01 02:07:38     2         9  \n",
       "4 2022-09-01 02:06:16     2         9  "
      ]
     },
     "execution_count": 34,
     "metadata": {},
     "output_type": "execute_result"
    }
   ],
   "source": [
    "student.head()"
   ]
  },
  {
   "cell_type": "code",
   "execution_count": 35,
   "id": "eee4b0ee",
   "metadata": {},
   "outputs": [
    {
     "data": {
      "text/html": [
       "<div>\n",
       "<style scoped>\n",
       "    .dataframe tbody tr th:only-of-type {\n",
       "        vertical-align: middle;\n",
       "    }\n",
       "\n",
       "    .dataframe tbody tr th {\n",
       "        vertical-align: top;\n",
       "    }\n",
       "\n",
       "    .dataframe thead th {\n",
       "        text-align: right;\n",
       "    }\n",
       "</style>\n",
       "<table border=\"1\" class=\"dataframe\">\n",
       "  <thead>\n",
       "    <tr style=\"text-align: right;\">\n",
       "      <th></th>\n",
       "      <th>month</th>\n",
       "      <th>count</th>\n",
       "    </tr>\n",
       "  </thead>\n",
       "  <tbody>\n",
       "    <tr>\n",
       "      <th>0</th>\n",
       "      <td>8</td>\n",
       "      <td>505</td>\n",
       "    </tr>\n",
       "    <tr>\n",
       "      <th>1</th>\n",
       "      <td>9</td>\n",
       "      <td>522</td>\n",
       "    </tr>\n",
       "    <tr>\n",
       "      <th>2</th>\n",
       "      <td>10</td>\n",
       "      <td>919</td>\n",
       "    </tr>\n",
       "    <tr>\n",
       "      <th>3</th>\n",
       "      <td>11</td>\n",
       "      <td>802</td>\n",
       "    </tr>\n",
       "    <tr>\n",
       "      <th>4</th>\n",
       "      <td>12</td>\n",
       "      <td>1058</td>\n",
       "    </tr>\n",
       "    <tr>\n",
       "      <th>5</th>\n",
       "      <td>1</td>\n",
       "      <td>1139</td>\n",
       "    </tr>\n",
       "    <tr>\n",
       "      <th>6</th>\n",
       "      <td>2</td>\n",
       "      <td>1141</td>\n",
       "    </tr>\n",
       "    <tr>\n",
       "      <th>7</th>\n",
       "      <td>3</td>\n",
       "      <td>1438</td>\n",
       "    </tr>\n",
       "    <tr>\n",
       "      <th>8</th>\n",
       "      <td>4</td>\n",
       "      <td>1003</td>\n",
       "    </tr>\n",
       "    <tr>\n",
       "      <th>9</th>\n",
       "      <td>5</td>\n",
       "      <td>1223</td>\n",
       "    </tr>\n",
       "    <tr>\n",
       "      <th>10</th>\n",
       "      <td>6</td>\n",
       "      <td>674</td>\n",
       "    </tr>\n",
       "    <tr>\n",
       "      <th>11</th>\n",
       "      <td>7</td>\n",
       "      <td>13</td>\n",
       "    </tr>\n",
       "  </tbody>\n",
       "</table>\n",
       "</div>"
      ],
      "text/plain": [
       "   month  count\n",
       "0      8    505\n",
       "1      9    522\n",
       "2     10    919\n",
       "3     11    802\n",
       "4     12   1058\n",
       "5      1   1139\n",
       "6      2   1141\n",
       "7      3   1438\n",
       "8      4   1003\n",
       "9      5   1223\n",
       "10     6    674\n",
       "11     7     13"
      ]
     },
     "execution_count": 35,
     "metadata": {},
     "output_type": "execute_result"
    }
   ],
   "source": [
    "# Define the custom month order to show from beginning of cohort to end\n",
    "month_order = [8, 9, 10, 11, 12, 1, 2, 3, 4, 5, 6, 7]\n",
    "\n",
    "# Convert dt_month to pd.Categorical with custom order\n",
    "student['dt_month'] = pd.Categorical(student['dt_month'], categories=month_order, ordered=True)\n",
    "\n",
    "# Group and aggregate\n",
    "monthly_sessions = student.groupby('dt_month').agg({'student': 'count'}).reset_index()\n",
    "monthly_sessions.columns = ['month', 'count']\n",
    "monthly_sessions"
   ]
  },
  {
   "cell_type": "code",
   "execution_count": 36,
   "id": "cf4e03fe",
   "metadata": {},
   "outputs": [
    {
     "data": {
      "image/png": "[encoded data removed]",
      "text/plain": [
       "<Figure size 640x480 with 1 Axes>"
      ]
     },
     "metadata": {},
     "output_type": "display_data"
    }
   ],
   "source": [
    "sns.barplot(data=monthly_sessions, x='month', y='count')\n",
    "plt.title('Total Sessions per Month');"
   ]
  },
  {
   "cell_type": "markdown",
   "id": "c49e828f",
   "metadata": {},
   "source": [
    "We can also confirm here that March has the most activity from the student. July had the least amount of activity regarding lessons, which makes sense as this month usually has to do with the final project. "
   ]
  },
  {
   "cell_type": "code",
   "execution_count": 37,
   "id": "5545cabf",
   "metadata": {},
   "outputs": [
    {
     "data": {
      "text/html": [
       "<div>\n",
       "<style scoped>\n",
       "    .dataframe tbody tr th:only-of-type {\n",
       "        vertical-align: middle;\n",
       "    }\n",
       "\n",
       "    .dataframe tbody tr th {\n",
       "        vertical-align: top;\n",
       "    }\n",
       "\n",
       "    .dataframe thead th {\n",
       "        text-align: right;\n",
       "    }\n",
       "</style>\n",
       "<table border=\"1\" class=\"dataframe\">\n",
       "  <thead>\n",
       "    <tr style=\"text-align: right;\">\n",
       "      <th></th>\n",
       "      <th>month</th>\n",
       "      <th>event_1</th>\n",
       "      <th>event_2</th>\n",
       "      <th>event_3</th>\n",
       "    </tr>\n",
       "  </thead>\n",
       "  <tbody>\n",
       "    <tr>\n",
       "      <th>0</th>\n",
       "      <td>8</td>\n",
       "      <td>222</td>\n",
       "      <td>90</td>\n",
       "      <td>193</td>\n",
       "    </tr>\n",
       "    <tr>\n",
       "      <th>1</th>\n",
       "      <td>9</td>\n",
       "      <td>255</td>\n",
       "      <td>74</td>\n",
       "      <td>193</td>\n",
       "    </tr>\n",
       "    <tr>\n",
       "      <th>2</th>\n",
       "      <td>10</td>\n",
       "      <td>678</td>\n",
       "      <td>130</td>\n",
       "      <td>111</td>\n",
       "    </tr>\n",
       "    <tr>\n",
       "      <th>3</th>\n",
       "      <td>11</td>\n",
       "      <td>572</td>\n",
       "      <td>102</td>\n",
       "      <td>128</td>\n",
       "    </tr>\n",
       "    <tr>\n",
       "      <th>4</th>\n",
       "      <td>12</td>\n",
       "      <td>913</td>\n",
       "      <td>72</td>\n",
       "      <td>73</td>\n",
       "    </tr>\n",
       "    <tr>\n",
       "      <th>5</th>\n",
       "      <td>1</td>\n",
       "      <td>918</td>\n",
       "      <td>129</td>\n",
       "      <td>92</td>\n",
       "    </tr>\n",
       "    <tr>\n",
       "      <th>6</th>\n",
       "      <td>2</td>\n",
       "      <td>897</td>\n",
       "      <td>140</td>\n",
       "      <td>104</td>\n",
       "    </tr>\n",
       "    <tr>\n",
       "      <th>7</th>\n",
       "      <td>3</td>\n",
       "      <td>1264</td>\n",
       "      <td>101</td>\n",
       "      <td>73</td>\n",
       "    </tr>\n",
       "    <tr>\n",
       "      <th>8</th>\n",
       "      <td>4</td>\n",
       "      <td>978</td>\n",
       "      <td>8</td>\n",
       "      <td>17</td>\n",
       "    </tr>\n",
       "    <tr>\n",
       "      <th>9</th>\n",
       "      <td>5</td>\n",
       "      <td>1219</td>\n",
       "      <td>1</td>\n",
       "      <td>3</td>\n",
       "    </tr>\n",
       "    <tr>\n",
       "      <th>10</th>\n",
       "      <td>6</td>\n",
       "      <td>674</td>\n",
       "      <td>0</td>\n",
       "      <td>0</td>\n",
       "    </tr>\n",
       "    <tr>\n",
       "      <th>11</th>\n",
       "      <td>7</td>\n",
       "      <td>13</td>\n",
       "      <td>0</td>\n",
       "      <td>0</td>\n",
       "    </tr>\n",
       "  </tbody>\n",
       "</table>\n",
       "</div>"
      ],
      "text/plain": [
       "   month  event_1  event_2  event_3\n",
       "0      8      222       90      193\n",
       "1      9      255       74      193\n",
       "2     10      678      130      111\n",
       "3     11      572      102      128\n",
       "4     12      913       72       73\n",
       "5      1      918      129       92\n",
       "6      2      897      140      104\n",
       "7      3     1264      101       73\n",
       "8      4      978        8       17\n",
       "9      5     1219        1        3\n",
       "10     6      674        0        0\n",
       "11     7       13        0        0"
      ]
     },
     "execution_count": 37,
     "metadata": {},
     "output_type": "execute_result"
    }
   ],
   "source": [
    "#taking a closer look, making a pivot table to look at event types completed during each month \n",
    "monthly_event = student.pivot_table(index='dt_month', values='student', columns='event_type', aggfunc='count').reset_index()\n",
    "monthly_event.columns = ['month', 'event_1', 'event_2', 'event_3']\n",
    "monthly_event"
   ]
  },
  {
   "cell_type": "code",
   "execution_count": 38,
   "id": "c6e092c7",
   "metadata": {},
   "outputs": [
    {
     "data": {
      "image/png": "[encoded data removed]",
      "text/plain": [
       "<Figure size 1000x600 with 1 Axes>"
      ]
     },
     "metadata": {},
     "output_type": "display_data"
    }
   ],
   "source": [
    "#plotting the monthly event\n",
    "# Melt the DataFrame for Seaborn plotting\n",
    "monthly_event_melted = pd.melt(monthly_event, id_vars='month', var_name='Event Type', value_name='Count')\n",
    "\n",
    "# Create a line plot using Seaborn\n",
    "plt.figure(figsize=(10, 6))\n",
    "sns.barplot(x='month', y='Count', hue='Event Type', data=monthly_event_melted, palette='viridis')\n",
    "\n",
    "# Adding labels and title\n",
    "plt.xlabel('Month')\n",
    "plt.ylabel('Count')\n",
    "plt.title('Event Type Count by Month')\n",
    "\n",
    "plt.legend()\n",
    "plt.tight_layout()\n",
    "plt.show()"
   ]
  },
  {
   "cell_type": "markdown",
   "id": "f92a383b",
   "metadata": {},
   "source": [
    "If we look at the event type trends over time, we can see that the number of lessons opened occured the most in the middle of the cohort. The student seemed to be pretty consistent with activity each month. "
   ]
  },
  {
   "cell_type": "markdown",
   "id": "1488f7ad",
   "metadata": {},
   "source": [
    "### Hypothesis Testing\n",
    "\n",
    "Null: The average hour of the date of event/activty does not differ between weekdays and weekends.</br>\n",
    "Alternative: The average hour of the date of event/activty is different between weekdays and weekends."
   ]
  },
  {
   "cell_type": "code",
   "execution_count": 39,
   "id": "902ac966",
   "metadata": {},
   "outputs": [],
   "source": [
    "#defining the two groups to test\n",
    "weekdays = student[student['dow'].isin(['Monday', 'Tuesday', 'Wednesday', 'Thursday', 'Friday'])]['hour']\n",
    "weekends = student[student['dow'].isin(['Saturday', 'Sunday'])]['hour']"
   ]
  },
  {
   "cell_type": "code",
   "execution_count": 40,
   "id": "c638e044",
   "metadata": {},
   "outputs": [],
   "source": [
    "# Test the hypotheses, creating a function to also test if variance is equal between the two populations\n",
    "def t_test(sample1,sample2,alpha=0.05):\n",
    "    p_value_levene=st.levene(sample1, sample2).pvalue.astype(int)\n",
    "    \n",
    "    if p_value_levene<alpha:\n",
    "        option_var=False\n",
    "    else:\n",
    "        option_var=True\n",
    "        \n",
    "    p_value=st.ttest_ind(sample1, sample2, nan_policy='omit', equal_var=option_var).pvalue\n",
    "    if p_value<alpha:\n",
    "        print('We reject the null hypothesis: average of sample 1 is not equal to average of sample 2')\n",
    "    else:\n",
    "        print( \"Fail to reject null hypothesis: We don't have enough evidence to say that averages of sample 1 \\\n",
    "        and sample 2 are not the same\") "
   ]
  },
  {
   "cell_type": "code",
   "execution_count": 41,
   "id": "5e319103",
   "metadata": {},
   "outputs": [
    {
     "name": "stdout",
     "output_type": "stream",
     "text": [
      "Fail to reject null hypothesis: We don't have enough evidence to say that averages of sample 1         and sample 2 are not the same\n"
     ]
    }
   ],
   "source": [
    "#looking at the p-value alone\n",
    "t_test(weekdays, weekends, alpha=0.05)"
   ]
  },
  {
   "cell_type": "markdown",
   "id": "30e5bde7",
   "metadata": {},
   "source": [
    "## Conclusion:\n",
    "\n",
    "The earliest log in date is 8/3/2022 and latest log in date is 7/27/23. The most popular study times for the student is early morning between 3-5am and the middle of the day hardly gets any activity. The most occuring event is opening lessons followed by completion of lessons. The most activity is also during the middle third of the program. Friday seems to be the day with the most events. The student is consistent with logging in and opening lessons to completing lessons overall everyday and throughout the cohort. When looking at months, activity started picking up in the middle of the cohort and towards the end. After testing the hypothesis that the average hour of the date of event/activty is different between weekdays and weekends, we found no statistical difference. \n",
    "\n"
   ]
  },
  {
   "cell_type": "code",
   "execution_count": null,
   "id": "12e5fddd",
   "metadata": {},
   "outputs": [],
   "source": []
  }
 ],
 "metadata": {
  "kernelspec": {
   "display_name": "Python 3 (ipykernel)",
   "language": "python",
   "name": "python3"
  },
  "language_info": {
   "codemirror_mode": {
    "name": "ipython",
    "version": 3
   },
   "file_extension": ".py",
   "mimetype": "text/x-python",
   "name": "python",
   "nbconvert_exporter": "python",
   "pygments_lexer": "ipython3",
   "version": "3.9.13"
  }
 },
 "nbformat": 4,
 "nbformat_minor": 5
}
